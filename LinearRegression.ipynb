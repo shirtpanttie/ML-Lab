{
 "cells": [
  {
   "cell_type": "code",
   "execution_count": 1,
   "id": "5175cb2e",
   "metadata": {},
   "outputs": [],
   "source": [
    "import pandas as pd\n",
    "import numpy as np\n",
    "from sklearn.model_selection import train_test_split\n",
    "from sklearn.linear_model import LinearRegression"
   ]
  },
  {
   "cell_type": "code",
   "execution_count": 2,
   "id": "d36b3146",
   "metadata": {},
   "outputs": [],
   "source": [
    "df = pd.read_csv(\"C:\\\\Users\\\\svenk\\\\Downloads\\\\Education\\\\VI Sem\\\\ML Lab\\LAB\\\\height_weight_bmi_data.csv\")"
   ]
  },
  {
   "cell_type": "code",
   "execution_count": 3,
   "id": "30b5621b",
   "metadata": {},
   "outputs": [
    {
     "data": {
      "text/html": [
       "<div>\n",
       "<style scoped>\n",
       "    .dataframe tbody tr th:only-of-type {\n",
       "        vertical-align: middle;\n",
       "    }\n",
       "\n",
       "    .dataframe tbody tr th {\n",
       "        vertical-align: top;\n",
       "    }\n",
       "\n",
       "    .dataframe thead th {\n",
       "        text-align: right;\n",
       "    }\n",
       "</style>\n",
       "<table border=\"1\" class=\"dataframe\">\n",
       "  <thead>\n",
       "    <tr style=\"text-align: right;\">\n",
       "      <th></th>\n",
       "      <th>Height</th>\n",
       "      <th>Weight</th>\n",
       "      <th>BMI</th>\n",
       "    </tr>\n",
       "  </thead>\n",
       "  <tbody>\n",
       "    <tr>\n",
       "      <th>0</th>\n",
       "      <td>NaN</td>\n",
       "      <td>NaN</td>\n",
       "      <td>NaN</td>\n",
       "    </tr>\n",
       "    <tr>\n",
       "      <th>1</th>\n",
       "      <td>174.001572</td>\n",
       "      <td>83.387108</td>\n",
       "      <td>27.541816</td>\n",
       "    </tr>\n",
       "    <tr>\n",
       "      <th>2</th>\n",
       "      <td>179.787380</td>\n",
       "      <td>63.665278</td>\n",
       "      <td>19.696281</td>\n",
       "    </tr>\n",
       "    <tr>\n",
       "      <th>3</th>\n",
       "      <td>192.408932</td>\n",
       "      <td>71.570710</td>\n",
       "      <td>19.332360</td>\n",
       "    </tr>\n",
       "    <tr>\n",
       "      <th>4</th>\n",
       "      <td>188.675580</td>\n",
       "      <td>73.420800</td>\n",
       "      <td>20.624704</td>\n",
       "    </tr>\n",
       "    <tr>\n",
       "      <th>...</th>\n",
       "      <td>...</td>\n",
       "      <td>...</td>\n",
       "      <td>...</td>\n",
       "    </tr>\n",
       "    <tr>\n",
       "      <th>995</th>\n",
       "      <td>174.128708</td>\n",
       "      <td>71.466262</td>\n",
       "      <td>23.570040</td>\n",
       "    </tr>\n",
       "    <tr>\n",
       "      <th>996</th>\n",
       "      <td>168.016011</td>\n",
       "      <td>91.022851</td>\n",
       "      <td>32.244014</td>\n",
       "    </tr>\n",
       "    <tr>\n",
       "      <th>997</th>\n",
       "      <td>170.941923</td>\n",
       "      <td>72.376508</td>\n",
       "      <td>24.768543</td>\n",
       "    </tr>\n",
       "    <tr>\n",
       "      <th>998</th>\n",
       "      <td>158.523891</td>\n",
       "      <td>52.871479</td>\n",
       "      <td>21.039335</td>\n",
       "    </tr>\n",
       "    <tr>\n",
       "      <th>999</th>\n",
       "      <td>166.418859</td>\n",
       "      <td>50.335444</td>\n",
       "      <td>18.174766</td>\n",
       "    </tr>\n",
       "  </tbody>\n",
       "</table>\n",
       "<p>1000 rows × 3 columns</p>\n",
       "</div>"
      ],
      "text/plain": [
       "         Height     Weight        BMI\n",
       "0           NaN        NaN        NaN\n",
       "1    174.001572  83.387108  27.541816\n",
       "2    179.787380  63.665278  19.696281\n",
       "3    192.408932  71.570710  19.332360\n",
       "4    188.675580  73.420800  20.624704\n",
       "..          ...        ...        ...\n",
       "995  174.128708  71.466262  23.570040\n",
       "996  168.016011  91.022851  32.244014\n",
       "997  170.941923  72.376508  24.768543\n",
       "998  158.523891  52.871479  21.039335\n",
       "999  166.418859  50.335444  18.174766\n",
       "\n",
       "[1000 rows x 3 columns]"
      ]
     },
     "execution_count": 3,
     "metadata": {},
     "output_type": "execute_result"
    }
   ],
   "source": [
    "df"
   ]
  },
  {
   "cell_type": "code",
   "execution_count": 4,
   "id": "8760a23c",
   "metadata": {},
   "outputs": [],
   "source": [
    "df.replace({'Height': {0: np.nan}, 'Weight': {0: np.nan}}, inplace=True)"
   ]
  },
  {
   "cell_type": "code",
   "execution_count": 5,
   "id": "d01b7413",
   "metadata": {},
   "outputs": [
    {
     "data": {
      "text/html": [
       "<div>\n",
       "<style scoped>\n",
       "    .dataframe tbody tr th:only-of-type {\n",
       "        vertical-align: middle;\n",
       "    }\n",
       "\n",
       "    .dataframe tbody tr th {\n",
       "        vertical-align: top;\n",
       "    }\n",
       "\n",
       "    .dataframe thead th {\n",
       "        text-align: right;\n",
       "    }\n",
       "</style>\n",
       "<table border=\"1\" class=\"dataframe\">\n",
       "  <thead>\n",
       "    <tr style=\"text-align: right;\">\n",
       "      <th></th>\n",
       "      <th>Height</th>\n",
       "      <th>Weight</th>\n",
       "      <th>BMI</th>\n",
       "    </tr>\n",
       "  </thead>\n",
       "  <tbody>\n",
       "    <tr>\n",
       "      <th>0</th>\n",
       "      <td>NaN</td>\n",
       "      <td>NaN</td>\n",
       "      <td>NaN</td>\n",
       "    </tr>\n",
       "    <tr>\n",
       "      <th>1</th>\n",
       "      <td>174.001572</td>\n",
       "      <td>83.387108</td>\n",
       "      <td>27.541816</td>\n",
       "    </tr>\n",
       "    <tr>\n",
       "      <th>2</th>\n",
       "      <td>179.787380</td>\n",
       "      <td>63.665278</td>\n",
       "      <td>19.696281</td>\n",
       "    </tr>\n",
       "    <tr>\n",
       "      <th>3</th>\n",
       "      <td>192.408932</td>\n",
       "      <td>71.570710</td>\n",
       "      <td>19.332360</td>\n",
       "    </tr>\n",
       "    <tr>\n",
       "      <th>4</th>\n",
       "      <td>188.675580</td>\n",
       "      <td>73.420800</td>\n",
       "      <td>20.624704</td>\n",
       "    </tr>\n",
       "    <tr>\n",
       "      <th>...</th>\n",
       "      <td>...</td>\n",
       "      <td>...</td>\n",
       "      <td>...</td>\n",
       "    </tr>\n",
       "    <tr>\n",
       "      <th>995</th>\n",
       "      <td>174.128708</td>\n",
       "      <td>71.466262</td>\n",
       "      <td>23.570040</td>\n",
       "    </tr>\n",
       "    <tr>\n",
       "      <th>996</th>\n",
       "      <td>168.016011</td>\n",
       "      <td>91.022851</td>\n",
       "      <td>32.244014</td>\n",
       "    </tr>\n",
       "    <tr>\n",
       "      <th>997</th>\n",
       "      <td>170.941923</td>\n",
       "      <td>72.376508</td>\n",
       "      <td>24.768543</td>\n",
       "    </tr>\n",
       "    <tr>\n",
       "      <th>998</th>\n",
       "      <td>158.523891</td>\n",
       "      <td>52.871479</td>\n",
       "      <td>21.039335</td>\n",
       "    </tr>\n",
       "    <tr>\n",
       "      <th>999</th>\n",
       "      <td>166.418859</td>\n",
       "      <td>50.335444</td>\n",
       "      <td>18.174766</td>\n",
       "    </tr>\n",
       "  </tbody>\n",
       "</table>\n",
       "<p>1000 rows × 3 columns</p>\n",
       "</div>"
      ],
      "text/plain": [
       "         Height     Weight        BMI\n",
       "0           NaN        NaN        NaN\n",
       "1    174.001572  83.387108  27.541816\n",
       "2    179.787380  63.665278  19.696281\n",
       "3    192.408932  71.570710  19.332360\n",
       "4    188.675580  73.420800  20.624704\n",
       "..          ...        ...        ...\n",
       "995  174.128708  71.466262  23.570040\n",
       "996  168.016011  91.022851  32.244014\n",
       "997  170.941923  72.376508  24.768543\n",
       "998  158.523891  52.871479  21.039335\n",
       "999  166.418859  50.335444  18.174766\n",
       "\n",
       "[1000 rows x 3 columns]"
      ]
     },
     "execution_count": 5,
     "metadata": {},
     "output_type": "execute_result"
    }
   ],
   "source": [
    "df"
   ]
  },
  {
   "cell_type": "code",
   "execution_count": 6,
   "id": "0aabdbc8",
   "metadata": {},
   "outputs": [],
   "source": [
    "df.dropna(inplace=True)"
   ]
  },
  {
   "cell_type": "code",
   "execution_count": 7,
   "id": "e6ad00a2",
   "metadata": {},
   "outputs": [
    {
     "data": {
      "text/html": [
       "<div>\n",
       "<style scoped>\n",
       "    .dataframe tbody tr th:only-of-type {\n",
       "        vertical-align: middle;\n",
       "    }\n",
       "\n",
       "    .dataframe tbody tr th {\n",
       "        vertical-align: top;\n",
       "    }\n",
       "\n",
       "    .dataframe thead th {\n",
       "        text-align: right;\n",
       "    }\n",
       "</style>\n",
       "<table border=\"1\" class=\"dataframe\">\n",
       "  <thead>\n",
       "    <tr style=\"text-align: right;\">\n",
       "      <th></th>\n",
       "      <th>Height</th>\n",
       "      <th>Weight</th>\n",
       "      <th>BMI</th>\n",
       "    </tr>\n",
       "  </thead>\n",
       "  <tbody>\n",
       "    <tr>\n",
       "      <th>1</th>\n",
       "      <td>174.001572</td>\n",
       "      <td>83.387108</td>\n",
       "      <td>27.541816</td>\n",
       "    </tr>\n",
       "    <tr>\n",
       "      <th>2</th>\n",
       "      <td>179.787380</td>\n",
       "      <td>63.665278</td>\n",
       "      <td>19.696281</td>\n",
       "    </tr>\n",
       "    <tr>\n",
       "      <th>3</th>\n",
       "      <td>192.408932</td>\n",
       "      <td>71.570710</td>\n",
       "      <td>19.332360</td>\n",
       "    </tr>\n",
       "    <tr>\n",
       "      <th>4</th>\n",
       "      <td>188.675580</td>\n",
       "      <td>73.420800</td>\n",
       "      <td>20.624704</td>\n",
       "    </tr>\n",
       "    <tr>\n",
       "      <th>5</th>\n",
       "      <td>160.227221</td>\n",
       "      <td>73.022199</td>\n",
       "      <td>28.443452</td>\n",
       "    </tr>\n",
       "    <tr>\n",
       "      <th>...</th>\n",
       "      <td>...</td>\n",
       "      <td>...</td>\n",
       "      <td>...</td>\n",
       "    </tr>\n",
       "    <tr>\n",
       "      <th>995</th>\n",
       "      <td>174.128708</td>\n",
       "      <td>71.466262</td>\n",
       "      <td>23.570040</td>\n",
       "    </tr>\n",
       "    <tr>\n",
       "      <th>996</th>\n",
       "      <td>168.016011</td>\n",
       "      <td>91.022851</td>\n",
       "      <td>32.244014</td>\n",
       "    </tr>\n",
       "    <tr>\n",
       "      <th>997</th>\n",
       "      <td>170.941923</td>\n",
       "      <td>72.376508</td>\n",
       "      <td>24.768543</td>\n",
       "    </tr>\n",
       "    <tr>\n",
       "      <th>998</th>\n",
       "      <td>158.523891</td>\n",
       "      <td>52.871479</td>\n",
       "      <td>21.039335</td>\n",
       "    </tr>\n",
       "    <tr>\n",
       "      <th>999</th>\n",
       "      <td>166.418859</td>\n",
       "      <td>50.335444</td>\n",
       "      <td>18.174766</td>\n",
       "    </tr>\n",
       "  </tbody>\n",
       "</table>\n",
       "<p>961 rows × 3 columns</p>\n",
       "</div>"
      ],
      "text/plain": [
       "         Height     Weight        BMI\n",
       "1    174.001572  83.387108  27.541816\n",
       "2    179.787380  63.665278  19.696281\n",
       "3    192.408932  71.570710  19.332360\n",
       "4    188.675580  73.420800  20.624704\n",
       "5    160.227221  73.022199  28.443452\n",
       "..          ...        ...        ...\n",
       "995  174.128708  71.466262  23.570040\n",
       "996  168.016011  91.022851  32.244014\n",
       "997  170.941923  72.376508  24.768543\n",
       "998  158.523891  52.871479  21.039335\n",
       "999  166.418859  50.335444  18.174766\n",
       "\n",
       "[961 rows x 3 columns]"
      ]
     },
     "execution_count": 7,
     "metadata": {},
     "output_type": "execute_result"
    }
   ],
   "source": [
    "df"
   ]
  },
  {
   "cell_type": "code",
   "execution_count": 8,
   "id": "476853a0",
   "metadata": {},
   "outputs": [],
   "source": [
    "model = LinearRegression()"
   ]
  },
  {
   "cell_type": "code",
   "execution_count": 9,
   "id": "6dcdfbd4",
   "metadata": {},
   "outputs": [],
   "source": [
    "xtr,xte,ytr,yte = train_test_split(df[['Height','Weight']],df['BMI'],random_state=42,test_size=0.2)"
   ]
  },
  {
   "cell_type": "code",
   "execution_count": 10,
   "id": "9a12d3e9",
   "metadata": {},
   "outputs": [
    {
     "data": {
      "text/plain": [
       "(         Height      Weight\n",
       " 485  143.443809   70.747859\n",
       " 963  178.299862   99.830979\n",
       " 568  170.086279   82.757960\n",
       " 292  193.039167   72.409918\n",
       " 114  167.319966  107.895524\n",
       " ..          ...         ...\n",
       " 111  179.060447   88.887507\n",
       " 282  163.079502   84.501520\n",
       " 891  174.722472   96.963091\n",
       " 452  174.631303   75.073382\n",
       " 106  165.863810   74.035361\n",
       " \n",
       " [768 rows x 2 columns],\n",
       "          Height     Weight\n",
       " 358  165.203442  42.549572\n",
       " 396  178.579239  71.978676\n",
       " 365  171.609282  61.205200\n",
       " 805  174.052041  60.432392\n",
       " 289  183.018462  93.644485\n",
       " ..          ...        ...\n",
       " 570  174.537819  54.823389\n",
       " 37   182.023798  81.503795\n",
       " 35   171.563490  85.979732\n",
       " 739  160.119981  68.584112\n",
       " 682  177.553957  71.292653\n",
       " \n",
       " [193 rows x 2 columns],\n",
       " 485    34.383468\n",
       " 963    31.402434\n",
       " 568    28.606928\n",
       " 292    19.431538\n",
       " 114    38.539661\n",
       "          ...    \n",
       " 111    27.723075\n",
       " 282    31.773552\n",
       " 891    31.762079\n",
       " 452    24.617378\n",
       " 106    26.911377\n",
       " Name: BMI, Length: 768, dtype: float64,\n",
       " 358    15.590391\n",
       " 396    22.570538\n",
       " 365    20.782930\n",
       " 805    19.948560\n",
       " 289    27.957118\n",
       "          ...    \n",
       " 570    17.996448\n",
       " 37     24.599228\n",
       " 35     29.210995\n",
       " 739    26.750535\n",
       " 682    22.614348\n",
       " Name: BMI, Length: 193, dtype: float64)"
      ]
     },
     "execution_count": 10,
     "metadata": {},
     "output_type": "execute_result"
    }
   ],
   "source": [
    "xtr,xte,ytr,yte"
   ]
  },
  {
   "cell_type": "code",
   "execution_count": 11,
   "id": "97098d51",
   "metadata": {},
   "outputs": [
    {
     "data": {
      "text/html": [
       "<style>#sk-container-id-1 {color: black;background-color: white;}#sk-container-id-1 pre{padding: 0;}#sk-container-id-1 div.sk-toggleable {background-color: white;}#sk-container-id-1 label.sk-toggleable__label {cursor: pointer;display: block;width: 100%;margin-bottom: 0;padding: 0.3em;box-sizing: border-box;text-align: center;}#sk-container-id-1 label.sk-toggleable__label-arrow:before {content: \"▸\";float: left;margin-right: 0.25em;color: #696969;}#sk-container-id-1 label.sk-toggleable__label-arrow:hover:before {color: black;}#sk-container-id-1 div.sk-estimator:hover label.sk-toggleable__label-arrow:before {color: black;}#sk-container-id-1 div.sk-toggleable__content {max-height: 0;max-width: 0;overflow: hidden;text-align: left;background-color: #f0f8ff;}#sk-container-id-1 div.sk-toggleable__content pre {margin: 0.2em;color: black;border-radius: 0.25em;background-color: #f0f8ff;}#sk-container-id-1 input.sk-toggleable__control:checked~div.sk-toggleable__content {max-height: 200px;max-width: 100%;overflow: auto;}#sk-container-id-1 input.sk-toggleable__control:checked~label.sk-toggleable__label-arrow:before {content: \"▾\";}#sk-container-id-1 div.sk-estimator input.sk-toggleable__control:checked~label.sk-toggleable__label {background-color: #d4ebff;}#sk-container-id-1 div.sk-label input.sk-toggleable__control:checked~label.sk-toggleable__label {background-color: #d4ebff;}#sk-container-id-1 input.sk-hidden--visually {border: 0;clip: rect(1px 1px 1px 1px);clip: rect(1px, 1px, 1px, 1px);height: 1px;margin: -1px;overflow: hidden;padding: 0;position: absolute;width: 1px;}#sk-container-id-1 div.sk-estimator {font-family: monospace;background-color: #f0f8ff;border: 1px dotted black;border-radius: 0.25em;box-sizing: border-box;margin-bottom: 0.5em;}#sk-container-id-1 div.sk-estimator:hover {background-color: #d4ebff;}#sk-container-id-1 div.sk-parallel-item::after {content: \"\";width: 100%;border-bottom: 1px solid gray;flex-grow: 1;}#sk-container-id-1 div.sk-label:hover label.sk-toggleable__label {background-color: #d4ebff;}#sk-container-id-1 div.sk-serial::before {content: \"\";position: absolute;border-left: 1px solid gray;box-sizing: border-box;top: 0;bottom: 0;left: 50%;z-index: 0;}#sk-container-id-1 div.sk-serial {display: flex;flex-direction: column;align-items: center;background-color: white;padding-right: 0.2em;padding-left: 0.2em;position: relative;}#sk-container-id-1 div.sk-item {position: relative;z-index: 1;}#sk-container-id-1 div.sk-parallel {display: flex;align-items: stretch;justify-content: center;background-color: white;position: relative;}#sk-container-id-1 div.sk-item::before, #sk-container-id-1 div.sk-parallel-item::before {content: \"\";position: absolute;border-left: 1px solid gray;box-sizing: border-box;top: 0;bottom: 0;left: 50%;z-index: -1;}#sk-container-id-1 div.sk-parallel-item {display: flex;flex-direction: column;z-index: 1;position: relative;background-color: white;}#sk-container-id-1 div.sk-parallel-item:first-child::after {align-self: flex-end;width: 50%;}#sk-container-id-1 div.sk-parallel-item:last-child::after {align-self: flex-start;width: 50%;}#sk-container-id-1 div.sk-parallel-item:only-child::after {width: 0;}#sk-container-id-1 div.sk-dashed-wrapped {border: 1px dashed gray;margin: 0 0.4em 0.5em 0.4em;box-sizing: border-box;padding-bottom: 0.4em;background-color: white;}#sk-container-id-1 div.sk-label label {font-family: monospace;font-weight: bold;display: inline-block;line-height: 1.2em;}#sk-container-id-1 div.sk-label-container {text-align: center;}#sk-container-id-1 div.sk-container {/* jupyter's `normalize.less` sets `[hidden] { display: none; }` but bootstrap.min.css set `[hidden] { display: none !important; }` so we also need the `!important` here to be able to override the default hidden behavior on the sphinx rendered scikit-learn.org. See: https://github.com/scikit-learn/scikit-learn/issues/21755 */display: inline-block !important;position: relative;}#sk-container-id-1 div.sk-text-repr-fallback {display: none;}</style><div id=\"sk-container-id-1\" class=\"sk-top-container\"><div class=\"sk-text-repr-fallback\"><pre>LinearRegression()</pre><b>In a Jupyter environment, please rerun this cell to show the HTML representation or trust the notebook. <br />On GitHub, the HTML representation is unable to render, please try loading this page with nbviewer.org.</b></div><div class=\"sk-container\" hidden><div class=\"sk-item\"><div class=\"sk-estimator sk-toggleable\"><input class=\"sk-toggleable__control sk-hidden--visually\" id=\"sk-estimator-id-1\" type=\"checkbox\" checked><label for=\"sk-estimator-id-1\" class=\"sk-toggleable__label sk-toggleable__label-arrow\">LinearRegression</label><div class=\"sk-toggleable__content\"><pre>LinearRegression()</pre></div></div></div></div></div>"
      ],
      "text/plain": [
       "LinearRegression()"
      ]
     },
     "execution_count": 11,
     "metadata": {},
     "output_type": "execute_result"
    }
   ],
   "source": [
    "model.fit(xtr,ytr)"
   ]
  },
  {
   "cell_type": "code",
   "execution_count": 12,
   "id": "17f17285",
   "metadata": {},
   "outputs": [
    {
     "data": {
      "text/plain": [
       "array([16.29475692, 22.64573254, 20.93368785, 19.94091641, 28.92013966,\n",
       "       10.06522683, 25.76261422, 20.85299529, 21.06318421, 26.50651446,\n",
       "       29.31704565, 16.59666606, 26.77624265, 23.78201337, 19.46996831,\n",
       "       22.59729829, 29.47808809, 31.96803956, 19.10007534, 20.7840595 ,\n",
       "       30.24538491, 30.62791771, 20.20247118, 20.05647902, 31.57161215,\n",
       "       19.34420747, 27.68791932, 14.62815833, 25.55220277, 23.75946289,\n",
       "       24.41232848, 30.73359975, 23.65296058, 17.46954327, 23.56760097,\n",
       "       21.88389052, 30.04937493, 29.12836568, 37.11646206, 26.00129621,\n",
       "       31.60076767, 24.57849085, 26.94626957, 35.38654294, 32.48548336,\n",
       "       15.22459285, 26.56684222, 31.97382856, 26.34640771, 24.75002343,\n",
       "       21.7559899 , 15.80031526, 21.82943739, 18.1795449 , 33.66314743,\n",
       "       11.75715833, 20.28731594, 20.8819726 , 28.05018311, 25.82583046,\n",
       "       19.00561969, 24.92961924, 22.04585966, 28.47630378, 20.59995046,\n",
       "       25.56724023, 23.20683186, 20.45503458, 25.7796845 , 21.02577017,\n",
       "       23.04015259, 26.7957945 , 20.1794559 , 27.08759041, 26.32134121,\n",
       "       27.68332802, 15.26542845, 19.81901283, 28.64308448, 17.22075553,\n",
       "       27.14560257, 20.90956288, 27.02798686, 28.8458064 , 31.99367078,\n",
       "       25.88889779, 19.84012674, 21.07487279, 13.11986506, 17.56974721,\n",
       "       23.54510464, 29.48496282, 31.63349816, 31.79344916, 26.40511923,\n",
       "       31.71554898, 25.29030621, 30.25239782, 29.80971634, 29.43412932,\n",
       "       32.41925986, 22.05936659, 20.96698389, 22.61901952, 16.75680724,\n",
       "       35.87614742, 23.57103905, 21.55207249, 26.51631673, 17.49160126,\n",
       "       29.13260242, 30.78809945, 19.26967014,  5.1828144 , 30.91827996,\n",
       "       25.78793319, 22.8066568 , 22.91673473, 31.34391079, 17.68206085,\n",
       "       23.91786363, 22.75420188, 24.48135448, 17.24068246, 21.51750995,\n",
       "       35.63237022, 17.85149881, 16.91576713, 26.48198627, 20.07399282,\n",
       "       30.51599878, 25.27388012, 17.6717124 , 25.76742107, 24.4455161 ,\n",
       "       22.76395992, 20.80521156, 24.47578682, 19.03032703, 17.99176173,\n",
       "       16.25582106, 17.95613965, 14.88738768, 13.31686895, 31.82440915,\n",
       "       18.68681194, 27.77232881, 32.3944669 , 16.46016322, 21.85233876,\n",
       "       27.74685297, 28.79387655, 23.14139431, 26.31057569, 18.73558048,\n",
       "       22.08445878, 25.13185544, 35.53790575, 23.52056617, 26.2478068 ,\n",
       "       21.79370453, 18.60461227, 25.08061896, 31.06726746, 27.19043745,\n",
       "       24.02280274, 26.43197371, 26.51750572, 20.48235174, 30.46974632,\n",
       "       31.29296118, 26.07381641, 34.39273591, 40.06759536, 19.09298977,\n",
       "       23.3688355 , 25.53552574, 16.78168982, 33.48991501, 21.2226038 ,\n",
       "       28.19214615, 20.13628703, 23.93611236, 18.38824282, 23.27243164,\n",
       "       23.00867652, 24.67352322, 29.9853823 , 17.83318461, 24.96285273,\n",
       "       29.62259496, 26.91417527, 22.70861075])"
      ]
     },
     "execution_count": 12,
     "metadata": {},
     "output_type": "execute_result"
    }
   ],
   "source": [
    "pred = model.predict(xte)\n",
    "pred"
   ]
  },
  {
   "cell_type": "code",
   "execution_count": 13,
   "id": "71472620",
   "metadata": {},
   "outputs": [
    {
     "data": {
      "text/plain": [
       "array([-0.29563088,  0.35017288])"
      ]
     },
     "execution_count": 13,
     "metadata": {},
     "output_type": "execute_result"
    }
   ],
   "source": [
    "model.coef_"
   ]
  },
  {
   "cell_type": "code",
   "execution_count": 14,
   "id": "0447ae61",
   "metadata": {},
   "outputs": [
    {
     "data": {
      "text/plain": [
       "50.23429037321689"
      ]
     },
     "execution_count": 14,
     "metadata": {},
     "output_type": "execute_result"
    }
   ],
   "source": [
    "model.intercept_"
   ]
  },
  {
   "cell_type": "code",
   "execution_count": 17,
   "id": "7eb1f76e",
   "metadata": {},
   "outputs": [
    {
     "name": "stdout",
     "output_type": "stream",
     "text": [
      "0.605885522687358\n",
      "0.49116583146442966\n",
      "0.022786521162158402\n",
      "0.9808388317311817\n",
      "0.7783864867065448\n"
     ]
    }
   ],
   "source": [
    "from sklearn.metrics import mean_absolute_error,mean_absolute_percentage_error,r2_score,mean_squared_error\n",
    "print(mean_squared_error(yte,pred))\n",
    "print(mean_absolute_error(yte,pred))\n",
    "print(mean_absolute_percentage_error(yte,pred))\n",
    "print(r2_score(yte,pred))\n",
    "print((mean_squared_error(yte,pred))**0.5)"
   ]
  },
  {
   "cell_type": "code",
   "execution_count": null,
   "id": "3d6f2fdd",
   "metadata": {},
   "outputs": [],
   "source": []
  }
 ],
 "metadata": {
  "kernelspec": {
   "display_name": "Python 3 (ipykernel)",
   "language": "python",
   "name": "python3"
  },
  "language_info": {
   "codemirror_mode": {
    "name": "ipython",
    "version": 3
   },
   "file_extension": ".py",
   "mimetype": "text/x-python",
   "name": "python",
   "nbconvert_exporter": "python",
   "pygments_lexer": "ipython3",
   "version": "3.11.7"
  }
 },
 "nbformat": 4,
 "nbformat_minor": 5
}
