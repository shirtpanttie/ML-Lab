{
 "cells": [
  {
   "cell_type": "code",
   "execution_count": 1,
   "id": "5175cb2e",
   "metadata": {},
   "outputs": [],
   "source": [
    "import pandas as pd\n",
    "import numpy as np\n",
    "from sklearn.model_selection import train_test_split\n",
    "from sklearn.linear_model import LinearRegression"
   ]
  },
  {
   "cell_type": "code",
   "execution_count": 2,
   "id": "d36b3146",
   "metadata": {},
   "outputs": [],
   "source": [
    "df = pd.read_csv(\"C:\\\\Users\\\\svenk\\\\Downloads\\\\Education\\\\VI Sem\\\\ML Lab\\LAB\\\\height_weight_bmi_data.csv\")"
   ]
  },
  {
   "cell_type": "code",
   "execution_count": 3,
   "id": "30b5621b",
   "metadata": {},
   "outputs": [
    {
     "data": {
      "text/html": [
       "<div>\n",
       "<style scoped>\n",
       "    .dataframe tbody tr th:only-of-type {\n",
       "        vertical-align: middle;\n",
       "    }\n",
       "\n",
       "    .dataframe tbody tr th {\n",
       "        vertical-align: top;\n",
       "    }\n",
       "\n",
       "    .dataframe thead th {\n",
       "        text-align: right;\n",
       "    }\n",
       "</style>\n",
       "<table border=\"1\" class=\"dataframe\">\n",
       "  <thead>\n",
       "    <tr style=\"text-align: right;\">\n",
       "      <th></th>\n",
       "      <th>Height</th>\n",
       "      <th>Weight</th>\n",
       "      <th>BMI</th>\n",
       "    </tr>\n",
       "  </thead>\n",
       "  <tbody>\n",
       "    <tr>\n",
       "      <th>0</th>\n",
       "      <td>NaN</td>\n",
       "      <td>NaN</td>\n",
       "      <td>NaN</td>\n",
       "    </tr>\n",
       "    <tr>\n",
       "      <th>1</th>\n",
       "      <td>174.001572</td>\n",
       "      <td>83.387108</td>\n",
       "      <td>27.541816</td>\n",
       "    </tr>\n",
       "    <tr>\n",
       "      <th>2</th>\n",
       "      <td>179.787380</td>\n",
       "      <td>63.665278</td>\n",
       "      <td>19.696281</td>\n",
       "    </tr>\n",
       "    <tr>\n",
       "      <th>3</th>\n",
       "      <td>192.408932</td>\n",
       "      <td>71.570710</td>\n",
       "      <td>19.332360</td>\n",
       "    </tr>\n",
       "    <tr>\n",
       "      <th>4</th>\n",
       "      <td>188.675580</td>\n",
       "      <td>73.420800</td>\n",
       "      <td>20.624704</td>\n",
       "    </tr>\n",
       "    <tr>\n",
       "      <th>...</th>\n",
       "      <td>...</td>\n",
       "      <td>...</td>\n",
       "      <td>...</td>\n",
       "    </tr>\n",
       "    <tr>\n",
       "      <th>995</th>\n",
       "      <td>174.128708</td>\n",
       "      <td>71.466262</td>\n",
       "      <td>23.570040</td>\n",
       "    </tr>\n",
       "    <tr>\n",
       "      <th>996</th>\n",
       "      <td>168.016011</td>\n",
       "      <td>91.022851</td>\n",
       "      <td>32.244014</td>\n",
       "    </tr>\n",
       "    <tr>\n",
       "      <th>997</th>\n",
       "      <td>170.941923</td>\n",
       "      <td>72.376508</td>\n",
       "      <td>24.768543</td>\n",
       "    </tr>\n",
       "    <tr>\n",
       "      <th>998</th>\n",
       "      <td>158.523891</td>\n",
       "      <td>52.871479</td>\n",
       "      <td>21.039335</td>\n",
       "    </tr>\n",
       "    <tr>\n",
       "      <th>999</th>\n",
       "      <td>166.418859</td>\n",
       "      <td>50.335444</td>\n",
       "      <td>18.174766</td>\n",
       "    </tr>\n",
       "  </tbody>\n",
       "</table>\n",
       "<p>1000 rows × 3 columns</p>\n",
       "</div>"
      ],
      "text/plain": [
       "         Height     Weight        BMI\n",
       "0           NaN        NaN        NaN\n",
       "1    174.001572  83.387108  27.541816\n",
       "2    179.787380  63.665278  19.696281\n",
       "3    192.408932  71.570710  19.332360\n",
       "4    188.675580  73.420800  20.624704\n",
       "..          ...        ...        ...\n",
       "995  174.128708  71.466262  23.570040\n",
       "996  168.016011  91.022851  32.244014\n",
       "997  170.941923  72.376508  24.768543\n",
       "998  158.523891  52.871479  21.039335\n",
       "999  166.418859  50.335444  18.174766\n",
       "\n",
       "[1000 rows x 3 columns]"
      ]
     },
     "execution_count": 3,
     "metadata": {},
     "output_type": "execute_result"
    }
   ],
   "source": [
    "df"
   ]
  },
  {
   "cell_type": "code",
   "execution_count": 4,
   "id": "8760a23c",
   "metadata": {},
   "outputs": [],
   "source": [
    "df.replace({'Height': {0: np.nan}, 'Weight': {0: np.nan}}, inplace=True)"
   ]
  },
  {
   "cell_type": "code",
   "execution_count": 5,
   "id": "d01b7413",
   "metadata": {},
   "outputs": [
    {
     "data": {
      "text/html": [
       "<div>\n",
       "<style scoped>\n",
       "    .dataframe tbody tr th:only-of-type {\n",
       "        vertical-align: middle;\n",
       "    }\n",
       "\n",
       "    .dataframe tbody tr th {\n",
       "        vertical-align: top;\n",
       "    }\n",
       "\n",
       "    .dataframe thead th {\n",
       "        text-align: right;\n",
       "    }\n",
       "</style>\n",
       "<table border=\"1\" class=\"dataframe\">\n",
       "  <thead>\n",
       "    <tr style=\"text-align: right;\">\n",
       "      <th></th>\n",
       "      <th>Height</th>\n",
       "      <th>Weight</th>\n",
       "      <th>BMI</th>\n",
       "    </tr>\n",
       "  </thead>\n",
       "  <tbody>\n",
       "    <tr>\n",
       "      <th>0</th>\n",
       "      <td>NaN</td>\n",
       "      <td>NaN</td>\n",
       "      <td>NaN</td>\n",
       "    </tr>\n",
       "    <tr>\n",
       "      <th>1</th>\n",
       "      <td>174.001572</td>\n",
       "      <td>83.387108</td>\n",
       "      <td>27.541816</td>\n",
       "    </tr>\n",
       "    <tr>\n",
       "      <th>2</th>\n",
       "      <td>179.787380</td>\n",
       "      <td>63.665278</td>\n",
       "      <td>19.696281</td>\n",
       "    </tr>\n",
       "    <tr>\n",
       "      <th>3</th>\n",
       "      <td>192.408932</td>\n",
       "      <td>71.570710</td>\n",
       "      <td>19.332360</td>\n",
       "    </tr>\n",
       "    <tr>\n",
       "      <th>4</th>\n",
       "      <td>188.675580</td>\n",
       "      <td>73.420800</td>\n",
       "      <td>20.624704</td>\n",
       "    </tr>\n",
       "    <tr>\n",
       "      <th>...</th>\n",
       "      <td>...</td>\n",
       "      <td>...</td>\n",
       "      <td>...</td>\n",
       "    </tr>\n",
       "    <tr>\n",
       "      <th>995</th>\n",
       "      <td>174.128708</td>\n",
       "      <td>71.466262</td>\n",
       "      <td>23.570040</td>\n",
       "    </tr>\n",
       "    <tr>\n",
       "      <th>996</th>\n",
       "      <td>168.016011</td>\n",
       "      <td>91.022851</td>\n",
       "      <td>32.244014</td>\n",
       "    </tr>\n",
       "    <tr>\n",
       "      <th>997</th>\n",
       "      <td>170.941923</td>\n",
       "      <td>72.376508</td>\n",
       "      <td>24.768543</td>\n",
       "    </tr>\n",
       "    <tr>\n",
       "      <th>998</th>\n",
       "      <td>158.523891</td>\n",
       "      <td>52.871479</td>\n",
       "      <td>21.039335</td>\n",
       "    </tr>\n",
       "    <tr>\n",
       "      <th>999</th>\n",
       "      <td>166.418859</td>\n",
       "      <td>50.335444</td>\n",
       "      <td>18.174766</td>\n",
       "    </tr>\n",
       "  </tbody>\n",
       "</table>\n",
       "<p>1000 rows × 3 columns</p>\n",
       "</div>"
      ],
      "text/plain": [
       "         Height     Weight        BMI\n",
       "0           NaN        NaN        NaN\n",
       "1    174.001572  83.387108  27.541816\n",
       "2    179.787380  63.665278  19.696281\n",
       "3    192.408932  71.570710  19.332360\n",
       "4    188.675580  73.420800  20.624704\n",
       "..          ...        ...        ...\n",
       "995  174.128708  71.466262  23.570040\n",
       "996  168.016011  91.022851  32.244014\n",
       "997  170.941923  72.376508  24.768543\n",
       "998  158.523891  52.871479  21.039335\n",
       "999  166.418859  50.335444  18.174766\n",
       "\n",
       "[1000 rows x 3 columns]"
      ]
     },
     "execution_count": 5,
     "metadata": {},
     "output_type": "execute_result"
    }
   ],
   "source": [
    "df"
   ]
  },
  {
   "cell_type": "code",
   "execution_count": 7,
   "id": "869e871a",
   "metadata": {},
   "outputs": [
    {
     "data": {
      "text/html": [
       "<div>\n",
       "<style scoped>\n",
       "    .dataframe tbody tr th:only-of-type {\n",
       "        vertical-align: middle;\n",
       "    }\n",
       "\n",
       "    .dataframe tbody tr th {\n",
       "        vertical-align: top;\n",
       "    }\n",
       "\n",
       "    .dataframe thead th {\n",
       "        text-align: right;\n",
       "    }\n",
       "</style>\n",
       "<table border=\"1\" class=\"dataframe\">\n",
       "  <thead>\n",
       "    <tr style=\"text-align: right;\">\n",
       "      <th></th>\n",
       "      <th>Height</th>\n",
       "      <th>Weight</th>\n",
       "      <th>BMI</th>\n",
       "    </tr>\n",
       "  </thead>\n",
       "  <tbody>\n",
       "    <tr>\n",
       "      <th>0</th>\n",
       "      <td>169.468977</td>\n",
       "      <td>70.242168</td>\n",
       "      <td>24.729087</td>\n",
       "    </tr>\n",
       "    <tr>\n",
       "      <th>1</th>\n",
       "      <td>174.001572</td>\n",
       "      <td>83.387108</td>\n",
       "      <td>27.541816</td>\n",
       "    </tr>\n",
       "    <tr>\n",
       "      <th>2</th>\n",
       "      <td>179.787380</td>\n",
       "      <td>63.665278</td>\n",
       "      <td>19.696281</td>\n",
       "    </tr>\n",
       "    <tr>\n",
       "      <th>3</th>\n",
       "      <td>192.408932</td>\n",
       "      <td>71.570710</td>\n",
       "      <td>19.332360</td>\n",
       "    </tr>\n",
       "    <tr>\n",
       "      <th>4</th>\n",
       "      <td>188.675580</td>\n",
       "      <td>73.420800</td>\n",
       "      <td>20.624704</td>\n",
       "    </tr>\n",
       "    <tr>\n",
       "      <th>...</th>\n",
       "      <td>...</td>\n",
       "      <td>...</td>\n",
       "      <td>...</td>\n",
       "    </tr>\n",
       "    <tr>\n",
       "      <th>995</th>\n",
       "      <td>174.128708</td>\n",
       "      <td>71.466262</td>\n",
       "      <td>23.570040</td>\n",
       "    </tr>\n",
       "    <tr>\n",
       "      <th>996</th>\n",
       "      <td>168.016011</td>\n",
       "      <td>91.022851</td>\n",
       "      <td>32.244014</td>\n",
       "    </tr>\n",
       "    <tr>\n",
       "      <th>997</th>\n",
       "      <td>170.941923</td>\n",
       "      <td>72.376508</td>\n",
       "      <td>24.768543</td>\n",
       "    </tr>\n",
       "    <tr>\n",
       "      <th>998</th>\n",
       "      <td>158.523891</td>\n",
       "      <td>52.871479</td>\n",
       "      <td>21.039335</td>\n",
       "    </tr>\n",
       "    <tr>\n",
       "      <th>999</th>\n",
       "      <td>166.418859</td>\n",
       "      <td>50.335444</td>\n",
       "      <td>18.174766</td>\n",
       "    </tr>\n",
       "  </tbody>\n",
       "</table>\n",
       "<p>1000 rows × 3 columns</p>\n",
       "</div>"
      ],
      "text/plain": [
       "         Height     Weight        BMI\n",
       "0    169.468977  70.242168  24.729087\n",
       "1    174.001572  83.387108  27.541816\n",
       "2    179.787380  63.665278  19.696281\n",
       "3    192.408932  71.570710  19.332360\n",
       "4    188.675580  73.420800  20.624704\n",
       "..          ...        ...        ...\n",
       "995  174.128708  71.466262  23.570040\n",
       "996  168.016011  91.022851  32.244014\n",
       "997  170.941923  72.376508  24.768543\n",
       "998  158.523891  52.871479  21.039335\n",
       "999  166.418859  50.335444  18.174766\n",
       "\n",
       "[1000 rows x 3 columns]"
      ]
     },
     "execution_count": 7,
     "metadata": {},
     "output_type": "execute_result"
    }
   ],
   "source": [
    "#run this if you want to replace nan with the mean values\n",
    "df['Height'].fillna(df['Height'].mean(),inplace=True)\n",
    "df['Weight'].fillna(df['Weight'].mean(),inplace=True)\n",
    "df['BMI'].fillna(df['BMI'].mean(),inplace=True)\n",
    "df"
   ]
  },
  {
   "cell_type": "code",
   "execution_count": 8,
   "id": "0aabdbc8",
   "metadata": {},
   "outputs": [],
   "source": [
    "# run this if you want to drop the nan rows do either the above cell or this\n",
    "df.dropna(inplace=True)"
   ]
  },
  {
   "cell_type": "code",
   "execution_count": 9,
   "id": "e6ad00a2",
   "metadata": {},
   "outputs": [
    {
     "data": {
      "text/html": [
       "<div>\n",
       "<style scoped>\n",
       "    .dataframe tbody tr th:only-of-type {\n",
       "        vertical-align: middle;\n",
       "    }\n",
       "\n",
       "    .dataframe tbody tr th {\n",
       "        vertical-align: top;\n",
       "    }\n",
       "\n",
       "    .dataframe thead th {\n",
       "        text-align: right;\n",
       "    }\n",
       "</style>\n",
       "<table border=\"1\" class=\"dataframe\">\n",
       "  <thead>\n",
       "    <tr style=\"text-align: right;\">\n",
       "      <th></th>\n",
       "      <th>Height</th>\n",
       "      <th>Weight</th>\n",
       "      <th>BMI</th>\n",
       "    </tr>\n",
       "  </thead>\n",
       "  <tbody>\n",
       "    <tr>\n",
       "      <th>0</th>\n",
       "      <td>169.468977</td>\n",
       "      <td>70.242168</td>\n",
       "      <td>24.729087</td>\n",
       "    </tr>\n",
       "    <tr>\n",
       "      <th>1</th>\n",
       "      <td>174.001572</td>\n",
       "      <td>83.387108</td>\n",
       "      <td>27.541816</td>\n",
       "    </tr>\n",
       "    <tr>\n",
       "      <th>2</th>\n",
       "      <td>179.787380</td>\n",
       "      <td>63.665278</td>\n",
       "      <td>19.696281</td>\n",
       "    </tr>\n",
       "    <tr>\n",
       "      <th>3</th>\n",
       "      <td>192.408932</td>\n",
       "      <td>71.570710</td>\n",
       "      <td>19.332360</td>\n",
       "    </tr>\n",
       "    <tr>\n",
       "      <th>4</th>\n",
       "      <td>188.675580</td>\n",
       "      <td>73.420800</td>\n",
       "      <td>20.624704</td>\n",
       "    </tr>\n",
       "    <tr>\n",
       "      <th>...</th>\n",
       "      <td>...</td>\n",
       "      <td>...</td>\n",
       "      <td>...</td>\n",
       "    </tr>\n",
       "    <tr>\n",
       "      <th>995</th>\n",
       "      <td>174.128708</td>\n",
       "      <td>71.466262</td>\n",
       "      <td>23.570040</td>\n",
       "    </tr>\n",
       "    <tr>\n",
       "      <th>996</th>\n",
       "      <td>168.016011</td>\n",
       "      <td>91.022851</td>\n",
       "      <td>32.244014</td>\n",
       "    </tr>\n",
       "    <tr>\n",
       "      <th>997</th>\n",
       "      <td>170.941923</td>\n",
       "      <td>72.376508</td>\n",
       "      <td>24.768543</td>\n",
       "    </tr>\n",
       "    <tr>\n",
       "      <th>998</th>\n",
       "      <td>158.523891</td>\n",
       "      <td>52.871479</td>\n",
       "      <td>21.039335</td>\n",
       "    </tr>\n",
       "    <tr>\n",
       "      <th>999</th>\n",
       "      <td>166.418859</td>\n",
       "      <td>50.335444</td>\n",
       "      <td>18.174766</td>\n",
       "    </tr>\n",
       "  </tbody>\n",
       "</table>\n",
       "<p>1000 rows × 3 columns</p>\n",
       "</div>"
      ],
      "text/plain": [
       "         Height     Weight        BMI\n",
       "0    169.468977  70.242168  24.729087\n",
       "1    174.001572  83.387108  27.541816\n",
       "2    179.787380  63.665278  19.696281\n",
       "3    192.408932  71.570710  19.332360\n",
       "4    188.675580  73.420800  20.624704\n",
       "..          ...        ...        ...\n",
       "995  174.128708  71.466262  23.570040\n",
       "996  168.016011  91.022851  32.244014\n",
       "997  170.941923  72.376508  24.768543\n",
       "998  158.523891  52.871479  21.039335\n",
       "999  166.418859  50.335444  18.174766\n",
       "\n",
       "[1000 rows x 3 columns]"
      ]
     },
     "execution_count": 9,
     "metadata": {},
     "output_type": "execute_result"
    }
   ],
   "source": [
    "df"
   ]
  },
  {
   "cell_type": "code",
   "execution_count": 10,
   "id": "476853a0",
   "metadata": {},
   "outputs": [],
   "source": [
    "model = LinearRegression()"
   ]
  },
  {
   "cell_type": "code",
   "execution_count": 11,
   "id": "6dcdfbd4",
   "metadata": {},
   "outputs": [],
   "source": [
    "xtr,xte,ytr,yte = train_test_split(df[['Height','Weight']],df['BMI'],random_state=42,test_size=0.2)"
   ]
  },
  {
   "cell_type": "code",
   "execution_count": 12,
   "id": "9a12d3e9",
   "metadata": {},
   "outputs": [
    {
     "data": {
      "text/plain": [
       "(         Height     Weight\n",
       " 29   184.693588  62.216497\n",
       " 535  164.145688  52.626952\n",
       " 695  180.907497  79.859015\n",
       " 557  170.203342  74.171216\n",
       " 836  161.516795  78.074944\n",
       " ..          ...        ...\n",
       " 106  165.863810  74.035361\n",
       " 270  173.990463  38.274160\n",
       " 860  169.468977  70.242168\n",
       " 435  173.148172  84.041613\n",
       " 102  157.295150  93.682978\n",
       " \n",
       " [800 rows x 2 columns],\n",
       "          Height      Weight\n",
       " 521  160.869208   64.027778\n",
       " 737  157.154477   62.840706\n",
       " 740  158.223710   55.253227\n",
       " 660  160.672591   74.786776\n",
       " 411  178.002979   47.810260\n",
       " ..          ...         ...\n",
       " 408  168.149463  106.768446\n",
       " 332  177.732530   71.573607\n",
       " 208  172.799246   89.442248\n",
       " 613  178.955560   54.048506\n",
       " 78   166.884475   57.096063\n",
       " \n",
       " [200 rows x 2 columns],\n",
       " 29     18.239038\n",
       " 535    19.532115\n",
       " 695    24.401180\n",
       " 557    25.603494\n",
       " 836    29.927904\n",
       "          ...    \n",
       " 106    26.911377\n",
       " 270    12.643135\n",
       " 860    24.729087\n",
       " 435    28.032289\n",
       " 102    37.864308\n",
       " Name: BMI, Length: 800, dtype: float64,\n",
       " 521    24.741304\n",
       " 737    25.444126\n",
       " 740    22.070619\n",
       " 660    28.969515\n",
       " 411    15.089212\n",
       "          ...    \n",
       " 408    37.761736\n",
       " 332    22.657869\n",
       " 208    29.954289\n",
       " 613    16.876924\n",
       " 78     20.500964\n",
       " Name: BMI, Length: 200, dtype: float64)"
      ]
     },
     "execution_count": 12,
     "metadata": {},
     "output_type": "execute_result"
    }
   ],
   "source": [
    "xtr,xte,ytr,yte"
   ]
  },
  {
   "cell_type": "code",
   "execution_count": 13,
   "id": "97098d51",
   "metadata": {},
   "outputs": [
    {
     "data": {
      "text/html": [
       "<style>#sk-container-id-1 {color: black;background-color: white;}#sk-container-id-1 pre{padding: 0;}#sk-container-id-1 div.sk-toggleable {background-color: white;}#sk-container-id-1 label.sk-toggleable__label {cursor: pointer;display: block;width: 100%;margin-bottom: 0;padding: 0.3em;box-sizing: border-box;text-align: center;}#sk-container-id-1 label.sk-toggleable__label-arrow:before {content: \"▸\";float: left;margin-right: 0.25em;color: #696969;}#sk-container-id-1 label.sk-toggleable__label-arrow:hover:before {color: black;}#sk-container-id-1 div.sk-estimator:hover label.sk-toggleable__label-arrow:before {color: black;}#sk-container-id-1 div.sk-toggleable__content {max-height: 0;max-width: 0;overflow: hidden;text-align: left;background-color: #f0f8ff;}#sk-container-id-1 div.sk-toggleable__content pre {margin: 0.2em;color: black;border-radius: 0.25em;background-color: #f0f8ff;}#sk-container-id-1 input.sk-toggleable__control:checked~div.sk-toggleable__content {max-height: 200px;max-width: 100%;overflow: auto;}#sk-container-id-1 input.sk-toggleable__control:checked~label.sk-toggleable__label-arrow:before {content: \"▾\";}#sk-container-id-1 div.sk-estimator input.sk-toggleable__control:checked~label.sk-toggleable__label {background-color: #d4ebff;}#sk-container-id-1 div.sk-label input.sk-toggleable__control:checked~label.sk-toggleable__label {background-color: #d4ebff;}#sk-container-id-1 input.sk-hidden--visually {border: 0;clip: rect(1px 1px 1px 1px);clip: rect(1px, 1px, 1px, 1px);height: 1px;margin: -1px;overflow: hidden;padding: 0;position: absolute;width: 1px;}#sk-container-id-1 div.sk-estimator {font-family: monospace;background-color: #f0f8ff;border: 1px dotted black;border-radius: 0.25em;box-sizing: border-box;margin-bottom: 0.5em;}#sk-container-id-1 div.sk-estimator:hover {background-color: #d4ebff;}#sk-container-id-1 div.sk-parallel-item::after {content: \"\";width: 100%;border-bottom: 1px solid gray;flex-grow: 1;}#sk-container-id-1 div.sk-label:hover label.sk-toggleable__label {background-color: #d4ebff;}#sk-container-id-1 div.sk-serial::before {content: \"\";position: absolute;border-left: 1px solid gray;box-sizing: border-box;top: 0;bottom: 0;left: 50%;z-index: 0;}#sk-container-id-1 div.sk-serial {display: flex;flex-direction: column;align-items: center;background-color: white;padding-right: 0.2em;padding-left: 0.2em;position: relative;}#sk-container-id-1 div.sk-item {position: relative;z-index: 1;}#sk-container-id-1 div.sk-parallel {display: flex;align-items: stretch;justify-content: center;background-color: white;position: relative;}#sk-container-id-1 div.sk-item::before, #sk-container-id-1 div.sk-parallel-item::before {content: \"\";position: absolute;border-left: 1px solid gray;box-sizing: border-box;top: 0;bottom: 0;left: 50%;z-index: -1;}#sk-container-id-1 div.sk-parallel-item {display: flex;flex-direction: column;z-index: 1;position: relative;background-color: white;}#sk-container-id-1 div.sk-parallel-item:first-child::after {align-self: flex-end;width: 50%;}#sk-container-id-1 div.sk-parallel-item:last-child::after {align-self: flex-start;width: 50%;}#sk-container-id-1 div.sk-parallel-item:only-child::after {width: 0;}#sk-container-id-1 div.sk-dashed-wrapped {border: 1px dashed gray;margin: 0 0.4em 0.5em 0.4em;box-sizing: border-box;padding-bottom: 0.4em;background-color: white;}#sk-container-id-1 div.sk-label label {font-family: monospace;font-weight: bold;display: inline-block;line-height: 1.2em;}#sk-container-id-1 div.sk-label-container {text-align: center;}#sk-container-id-1 div.sk-container {/* jupyter's `normalize.less` sets `[hidden] { display: none; }` but bootstrap.min.css set `[hidden] { display: none !important; }` so we also need the `!important` here to be able to override the default hidden behavior on the sphinx rendered scikit-learn.org. See: https://github.com/scikit-learn/scikit-learn/issues/21755 */display: inline-block !important;position: relative;}#sk-container-id-1 div.sk-text-repr-fallback {display: none;}</style><div id=\"sk-container-id-1\" class=\"sk-top-container\"><div class=\"sk-text-repr-fallback\"><pre>LinearRegression()</pre><b>In a Jupyter environment, please rerun this cell to show the HTML representation or trust the notebook. <br />On GitHub, the HTML representation is unable to render, please try loading this page with nbviewer.org.</b></div><div class=\"sk-container\" hidden><div class=\"sk-item\"><div class=\"sk-estimator sk-toggleable\"><input class=\"sk-toggleable__control sk-hidden--visually\" id=\"sk-estimator-id-1\" type=\"checkbox\" checked><label for=\"sk-estimator-id-1\" class=\"sk-toggleable__label sk-toggleable__label-arrow\">LinearRegression</label><div class=\"sk-toggleable__content\"><pre>LinearRegression()</pre></div></div></div></div></div>"
      ],
      "text/plain": [
       "LinearRegression()"
      ]
     },
     "execution_count": 13,
     "metadata": {},
     "output_type": "execute_result"
    }
   ],
   "source": [
    "model.fit(xtr,ytr)"
   ]
  },
  {
   "cell_type": "code",
   "execution_count": 14,
   "id": "17f17285",
   "metadata": {},
   "outputs": [
    {
     "data": {
      "text/plain": [
       "array([25.08802468, 25.77485284, 22.78767594, 28.93150283, 14.28858633,\n",
       "       31.7008733 , 22.95957171, 23.41755963, 23.82887463, 23.90611947,\n",
       "       21.09270992, 30.26707827, 22.61870527, 22.05199981, 31.3634223 ,\n",
       "       30.48107324, 24.35384186, 34.15538543, 23.63345658, 17.9470955 ,\n",
       "       32.41836628, 37.16355229, 28.7102392 , 27.49115943, 24.59988148,\n",
       "       13.79989028, 28.31816787, 27.88628309, 22.628619  , 31.8081723 ,\n",
       "       28.09383312, 28.49693687, 19.70182316, 24.10304872, 27.70826583,\n",
       "        7.42603715, 27.20146474, 24.71742027, 25.88271757, 22.06678767,\n",
       "       32.61307383, 28.30409694, 26.47386301, 16.72484837, 13.03883915,\n",
       "       17.17253274, 21.72383848, 22.44261931, 30.58303583, 24.69091963,\n",
       "       17.78604869, 32.68029256, 18.56402832, 19.37273614, 20.8894054 ,\n",
       "       20.03636033, 32.01273807, 18.76733224, 23.34989965, 20.42152103,\n",
       "       25.2775645 , 41.29139386, 29.82039752, 28.01922032, 20.48431639,\n",
       "       40.30320781, 14.48305778, 27.73972349, 16.8635168 , 10.31971882,\n",
       "       29.46662708, 23.12716777, 16.96485191, 23.12385376, 18.4722928 ,\n",
       "       28.9219186 , 14.64217154, 16.00175756, 36.47595147, 26.00617022,\n",
       "       26.79049614, 29.67730694, 28.52576267, 23.18464558, 24.27171578,\n",
       "       18.69039224, 21.86052783, 16.11584444, 12.08837842, 17.62865511,\n",
       "       35.85159063, 25.71074729, 28.62126943, 11.45115246, 24.71742027,\n",
       "       26.30170805, 23.35332334, 31.23281364, 29.14046317, 23.60844641,\n",
       "       26.31754068, 42.69589051, 24.71742027, 11.97549969, 21.94182752,\n",
       "       30.22680687, 27.61203276, 37.78791424, 22.20794893, 14.05128249,\n",
       "       22.7841903 , 24.65776019, 15.16539569, 40.28833624, 15.46506776,\n",
       "       14.63393697, 12.62943662, 20.63361776, 26.78988767, 33.36672647,\n",
       "       19.82489807, 27.41605123, 25.20818811, 28.70330457, 31.8204583 ,\n",
       "       27.53076705,  8.73042028, 24.71742027, 20.02012512, 24.59520988,\n",
       "       22.17728953, 33.36127632, 24.71742027, 23.76265473, 22.71618116,\n",
       "       24.20084623, 27.20925209, 26.14704855, 24.61837763, 20.76148485,\n",
       "       33.55342389, 19.28443815, 18.7712754 , 18.4634095 , 27.87502287,\n",
       "       35.80357075, 18.09101462, 27.68756824, 31.32037332, 23.13791601,\n",
       "       24.22726749, 36.58509657, 29.32735761, 20.78262461, 26.94674859,\n",
       "       22.48184149, 23.22679366, 27.74056202, 27.58104009, 22.34876426,\n",
       "       28.79791757, 27.56851983, 25.98873477, 28.85037391, 24.71742027,\n",
       "       30.53300714, 26.50232806,  9.97603407, 21.49008901, 28.05235126,\n",
       "       32.51562383, 23.77171535, 18.59437938, 25.52652853, 27.08860716,\n",
       "       28.11820182, 20.62046849, 20.29304931, 32.19960427, 21.9857274 ,\n",
       "        5.06995337, 21.04589105, 31.31463933, 21.1353015 , 24.93327826,\n",
       "       25.50636693, 25.02743009, 20.90186779, 25.45104644, 22.53616039,\n",
       "       17.73847504, 26.47802674, 30.73421982, 23.61253341, 30.50753797,\n",
       "       37.95969391, 22.72895299, 30.48188367, 16.19998918, 20.86102179])"
      ]
     },
     "execution_count": 14,
     "metadata": {},
     "output_type": "execute_result"
    }
   ],
   "source": [
    "pred = model.predict(xte)\n",
    "pred"
   ]
  },
  {
   "cell_type": "code",
   "execution_count": 15,
   "id": "71472620",
   "metadata": {},
   "outputs": [
    {
     "data": {
      "text/plain": [
       "array([-0.29731381,  0.35180053])"
      ]
     },
     "execution_count": 15,
     "metadata": {},
     "output_type": "execute_result"
    }
   ],
   "source": [
    "model.coef_"
   ]
  },
  {
   "cell_type": "code",
   "execution_count": 16,
   "id": "0447ae61",
   "metadata": {},
   "outputs": [
    {
     "data": {
      "text/plain": [
       "50.391655320872786"
      ]
     },
     "execution_count": 16,
     "metadata": {},
     "output_type": "execute_result"
    }
   ],
   "source": [
    "model.intercept_"
   ]
  },
  {
   "cell_type": "code",
   "execution_count": 17,
   "id": "7eb1f76e",
   "metadata": {},
   "outputs": [
    {
     "name": "stdout",
     "output_type": "stream",
     "text": [
      "0.7025649513973994\n",
      "0.5165468465466653\n",
      "0.025728940340568465\n",
      "0.9825847455938032\n",
      "0.8381914765716718\n"
     ]
    }
   ],
   "source": [
    "from sklearn.metrics import mean_absolute_error,mean_absolute_percentage_error,r2_score,mean_squared_error\n",
    "print(mean_squared_error(yte,pred))\n",
    "print(mean_absolute_error(yte,pred))\n",
    "print(mean_absolute_percentage_error(yte,pred))\n",
    "print(r2_score(yte,pred))\n",
    "print((mean_squared_error(yte,pred))**0.5)"
   ]
  },
  {
   "cell_type": "code",
   "execution_count": 22,
   "id": "3d6f2fdd",
   "metadata": {},
   "outputs": [
    {
     "data": {
      "image/png": "[encoded data removed]",
      "text/plain": [
       "<Figure size 640x480 with 1 Axes>"
      ]
     },
     "metadata": {},
     "output_type": "display_data"
    }
   ],
   "source": [
    "import matplotlib.pyplot as plt\n",
    "plt.scatter(df['Height'],df['Weight'])\n",
    "plt.xlabel('Height')\n",
    "plt.ylabel('Weight')\n",
    "plt.title('Height vs Weight Scatter Plot')\n",
    "plt.show()"
   ]
  },
  {
   "cell_type": "code",
   "execution_count": null,
   "id": "a3bcd381",
   "metadata": {},
   "outputs": [],
   "source": []
  }
 ],
 "metadata": {
  "kernelspec": {
   "display_name": "Python 3 (ipykernel)",
   "language": "python",
   "name": "python3"
  },
  "language_info": {
   "codemirror_mode": {
    "name": "ipython",
    "version": 3
   },
   "file_extension": ".py",
   "mimetype": "text/x-python",
   "name": "python",
   "nbconvert_exporter": "python",
   "pygments_lexer": "ipython3",
   "version": "3.11.7"
  }
 },
 "nbformat": 4,
 "nbformat_minor": 5
}
